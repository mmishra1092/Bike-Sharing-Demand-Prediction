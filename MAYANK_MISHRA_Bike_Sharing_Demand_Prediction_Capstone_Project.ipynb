{
  "nbformat": 4,
  "nbformat_minor": 0,
  "metadata": {
    "kernelspec": {
      "display_name": "Python 3",
      "language": "python",
      "name": "python3"
    },
    "language_info": {
      "codemirror_mode": {
        "name": "ipython",
        "version": 3
      },
      "file_extension": ".py",
      "mimetype": "text/x-python",
      "name": "python",
      "nbconvert_exporter": "python",
      "pygments_lexer": "ipython3",
      "version": "3.6.6"
    },
    "colab": {
      "name": "MAYANK MISHRA: Bike Sharing Demand Prediction - Capstone Project.ipynb",
      "provenance": [],
      "collapsed_sections": [],
      "include_colab_link": true
    }
  },
  "cells": [
    {
      "cell_type": "markdown",
      "metadata": {
        "id": "view-in-github",
        "colab_type": "text"
      },
      "source": [
        "<a href=\"https://colab.research.google.com/github/mmishra1092/Bike-Sharing-Demand-Prediction/blob/main/MAYANK_MISHRA_Bike_Sharing_Demand_Prediction_Capstone_Project.ipynb\" target=\"_parent\"><img src=\"https://colab.research.google.com/assets/colab-badge.svg\" alt=\"Open In Colab\"/></a>"
      ]
    },
    {
      "cell_type": "markdown",
      "metadata": {
        "id": "tOGC-qoyhJeX"
      },
      "source": [
        "# <b><u> Project Title : Seoul Bike Sharing Demand Prediction </u></b>"
      ]
    },
    {
      "cell_type": "markdown",
      "metadata": {
        "id": "Y06xIdG26kRF"
      },
      "source": [
        "## <b> Problem Description </b>\n",
        "\n",
        "### Currently Rental bikes are introduced in many urban cities for the enhancement of mobility comfort. It is important to make the rental bike available and accessible to the public at the right time as it lessens the waiting time. Eventually, providing the city with a stable supply of rental bikes becomes a major concern. The crucial part is the prediction of bike count required at each hour for the stable supply of rental bikes.\n"
      ]
    },
    {
      "cell_type": "markdown",
      "metadata": {
        "id": "AlLxAtlziMbP"
      },
      "source": [
        "## <b> Data Description </b>\n",
        "\n",
        "### <b> The dataset contains weather information (Temperature, Humidity, Windspeed, Visibility, Dewpoint, Solar radiation, Snowfall, Rainfall), the number of bikes rented per hour and date information.</b>\n",
        "\n",
        "\n",
        "### <b>Attribute Information: </b>\n",
        "\n",
        "* ### Date : year-month-day\n",
        "* ### Rented Bike count - Count of bikes rented at each hour\n",
        "* ### Hour - Hour of he day\n",
        "* ### Temperature-Temperature in Celsius\n",
        "* ### Humidity - %\n",
        "* ### Windspeed - m/s\n",
        "* ### Visibility - 10m\n",
        "* ### Dew point temperature - Celsius\n",
        "* ### Solar radiation - MJ/m2\n",
        "* ### Rainfall - mm\n",
        "* ### Snowfall - cm\n",
        "* ### Seasons - Winter, Spring, Summer, Autumn\n",
        "* ### Holiday - Holiday/No holiday\n",
        "* ### Functional Day - NoFunc(Non Functional Hours), Fun(Functional hours)"
      ]
    },
    {
      "cell_type": "code",
      "metadata": {
        "id": "dByMsuzT8Tnw"
      },
      "source": [
        "# Import all the necessary libraries\n",
        "\n",
        "import pandas as pd\n",
        "import numpy as np\n",
        "import matplotlib.pyplot as plt\n",
        "from numpy import math\n",
        "from sklearn.preprocessing import MinMaxScaler\n",
        "from sklearn.model_selection import train_test_split\n",
        "from sklearn.linear_model import LinearRegression\n",
        "from sklearn.metrics import r2_score\n",
        "from sklearn.metrics import mean_squared_error"
      ],
      "execution_count": 38,
      "outputs": []
    },
    {
      "cell_type": "code",
      "metadata": {
        "colab": {
          "base_uri": "https://localhost:8080/"
        },
        "id": "1CCoe5i4l_9s",
        "outputId": "f7256c41-edde-4917-9bb1-dd20c198a708"
      },
      "source": [
        "# Mount the drive\n",
        "from google.colab import drive\n",
        "drive.mount('/content/drive')"
      ],
      "execution_count": 39,
      "outputs": [
        {
          "output_type": "stream",
          "name": "stdout",
          "text": [
            "Drive already mounted at /content/drive; to attempt to forcibly remount, call drive.mount(\"/content/drive\", force_remount=True).\n"
          ]
        }
      ]
    },
    {
      "cell_type": "code",
      "metadata": {
        "id": "vLRyiam2mDUg"
      },
      "source": [
        "# upload Data Path\n",
        "\n",
        "working_path = '/content/drive/MyDrive/Module: 4/Week_3/Capstone Project: Supervised ML: Regression/SeoulBikeData.csv'"
      ],
      "execution_count": 40,
      "outputs": []
    },
    {
      "cell_type": "code",
      "metadata": {
        "id": "3leYrYsxm0d7"
      },
      "source": [
        "# Read data\n",
        "\n",
        "bike_data_df = pd.read_csv(working_path, encoding = 'ISO-8859-1', low_memory = False)"
      ],
      "execution_count": 41,
      "outputs": []
    },
    {
      "cell_type": "code",
      "metadata": {
        "colab": {
          "base_uri": "https://localhost:8080/",
          "height": 323
        },
        "id": "TLZnbJX1nQlO",
        "outputId": "4fcc699c-c05c-4b8a-f3c1-7b297f4f272e"
      },
      "source": [
        "#  View first 5 rows of dataset\n",
        "\n",
        "bike_data_df.head()"
      ],
      "execution_count": 42,
      "outputs": [
        {
          "output_type": "execute_result",
          "data": {
            "text/html": [
              "<div>\n",
              "<style scoped>\n",
              "    .dataframe tbody tr th:only-of-type {\n",
              "        vertical-align: middle;\n",
              "    }\n",
              "\n",
              "    .dataframe tbody tr th {\n",
              "        vertical-align: top;\n",
              "    }\n",
              "\n",
              "    .dataframe thead th {\n",
              "        text-align: right;\n",
              "    }\n",
              "</style>\n",
              "<table border=\"1\" class=\"dataframe\">\n",
              "  <thead>\n",
              "    <tr style=\"text-align: right;\">\n",
              "      <th></th>\n",
              "      <th>Date</th>\n",
              "      <th>Rented Bike Count</th>\n",
              "      <th>Hour</th>\n",
              "      <th>Temperature(°C)</th>\n",
              "      <th>Humidity(%)</th>\n",
              "      <th>Wind speed (m/s)</th>\n",
              "      <th>Visibility (10m)</th>\n",
              "      <th>Dew point temperature(°C)</th>\n",
              "      <th>Solar Radiation (MJ/m2)</th>\n",
              "      <th>Rainfall(mm)</th>\n",
              "      <th>Snowfall (cm)</th>\n",
              "      <th>Seasons</th>\n",
              "      <th>Holiday</th>\n",
              "      <th>Functioning Day</th>\n",
              "    </tr>\n",
              "  </thead>\n",
              "  <tbody>\n",
              "    <tr>\n",
              "      <th>0</th>\n",
              "      <td>01/12/2017</td>\n",
              "      <td>254</td>\n",
              "      <td>0</td>\n",
              "      <td>-5.2</td>\n",
              "      <td>37</td>\n",
              "      <td>2.2</td>\n",
              "      <td>2000</td>\n",
              "      <td>-17.6</td>\n",
              "      <td>0.0</td>\n",
              "      <td>0.0</td>\n",
              "      <td>0.0</td>\n",
              "      <td>Winter</td>\n",
              "      <td>No Holiday</td>\n",
              "      <td>Yes</td>\n",
              "    </tr>\n",
              "    <tr>\n",
              "      <th>1</th>\n",
              "      <td>01/12/2017</td>\n",
              "      <td>204</td>\n",
              "      <td>1</td>\n",
              "      <td>-5.5</td>\n",
              "      <td>38</td>\n",
              "      <td>0.8</td>\n",
              "      <td>2000</td>\n",
              "      <td>-17.6</td>\n",
              "      <td>0.0</td>\n",
              "      <td>0.0</td>\n",
              "      <td>0.0</td>\n",
              "      <td>Winter</td>\n",
              "      <td>No Holiday</td>\n",
              "      <td>Yes</td>\n",
              "    </tr>\n",
              "    <tr>\n",
              "      <th>2</th>\n",
              "      <td>01/12/2017</td>\n",
              "      <td>173</td>\n",
              "      <td>2</td>\n",
              "      <td>-6.0</td>\n",
              "      <td>39</td>\n",
              "      <td>1.0</td>\n",
              "      <td>2000</td>\n",
              "      <td>-17.7</td>\n",
              "      <td>0.0</td>\n",
              "      <td>0.0</td>\n",
              "      <td>0.0</td>\n",
              "      <td>Winter</td>\n",
              "      <td>No Holiday</td>\n",
              "      <td>Yes</td>\n",
              "    </tr>\n",
              "    <tr>\n",
              "      <th>3</th>\n",
              "      <td>01/12/2017</td>\n",
              "      <td>107</td>\n",
              "      <td>3</td>\n",
              "      <td>-6.2</td>\n",
              "      <td>40</td>\n",
              "      <td>0.9</td>\n",
              "      <td>2000</td>\n",
              "      <td>-17.6</td>\n",
              "      <td>0.0</td>\n",
              "      <td>0.0</td>\n",
              "      <td>0.0</td>\n",
              "      <td>Winter</td>\n",
              "      <td>No Holiday</td>\n",
              "      <td>Yes</td>\n",
              "    </tr>\n",
              "    <tr>\n",
              "      <th>4</th>\n",
              "      <td>01/12/2017</td>\n",
              "      <td>78</td>\n",
              "      <td>4</td>\n",
              "      <td>-6.0</td>\n",
              "      <td>36</td>\n",
              "      <td>2.3</td>\n",
              "      <td>2000</td>\n",
              "      <td>-18.6</td>\n",
              "      <td>0.0</td>\n",
              "      <td>0.0</td>\n",
              "      <td>0.0</td>\n",
              "      <td>Winter</td>\n",
              "      <td>No Holiday</td>\n",
              "      <td>Yes</td>\n",
              "    </tr>\n",
              "  </tbody>\n",
              "</table>\n",
              "</div>"
            ],
            "text/plain": [
              "         Date  Rented Bike Count  Hour  ...  Seasons     Holiday  Functioning Day\n",
              "0  01/12/2017                254     0  ...   Winter  No Holiday              Yes\n",
              "1  01/12/2017                204     1  ...   Winter  No Holiday              Yes\n",
              "2  01/12/2017                173     2  ...   Winter  No Holiday              Yes\n",
              "3  01/12/2017                107     3  ...   Winter  No Holiday              Yes\n",
              "4  01/12/2017                 78     4  ...   Winter  No Holiday              Yes\n",
              "\n",
              "[5 rows x 14 columns]"
            ]
          },
          "metadata": {},
          "execution_count": 42
        }
      ]
    },
    {
      "cell_type": "code",
      "metadata": {
        "colab": {
          "base_uri": "https://localhost:8080/",
          "height": 323
        },
        "id": "CuUUi6apnd7h",
        "outputId": "dfcab85f-bae9-46fe-d2ce-bfaaf4f82872"
      },
      "source": [
        "bike_data_df.tail()"
      ],
      "execution_count": 43,
      "outputs": [
        {
          "output_type": "execute_result",
          "data": {
            "text/html": [
              "<div>\n",
              "<style scoped>\n",
              "    .dataframe tbody tr th:only-of-type {\n",
              "        vertical-align: middle;\n",
              "    }\n",
              "\n",
              "    .dataframe tbody tr th {\n",
              "        vertical-align: top;\n",
              "    }\n",
              "\n",
              "    .dataframe thead th {\n",
              "        text-align: right;\n",
              "    }\n",
              "</style>\n",
              "<table border=\"1\" class=\"dataframe\">\n",
              "  <thead>\n",
              "    <tr style=\"text-align: right;\">\n",
              "      <th></th>\n",
              "      <th>Date</th>\n",
              "      <th>Rented Bike Count</th>\n",
              "      <th>Hour</th>\n",
              "      <th>Temperature(°C)</th>\n",
              "      <th>Humidity(%)</th>\n",
              "      <th>Wind speed (m/s)</th>\n",
              "      <th>Visibility (10m)</th>\n",
              "      <th>Dew point temperature(°C)</th>\n",
              "      <th>Solar Radiation (MJ/m2)</th>\n",
              "      <th>Rainfall(mm)</th>\n",
              "      <th>Snowfall (cm)</th>\n",
              "      <th>Seasons</th>\n",
              "      <th>Holiday</th>\n",
              "      <th>Functioning Day</th>\n",
              "    </tr>\n",
              "  </thead>\n",
              "  <tbody>\n",
              "    <tr>\n",
              "      <th>8755</th>\n",
              "      <td>30/11/2018</td>\n",
              "      <td>1003</td>\n",
              "      <td>19</td>\n",
              "      <td>4.2</td>\n",
              "      <td>34</td>\n",
              "      <td>2.6</td>\n",
              "      <td>1894</td>\n",
              "      <td>-10.3</td>\n",
              "      <td>0.0</td>\n",
              "      <td>0.0</td>\n",
              "      <td>0.0</td>\n",
              "      <td>Autumn</td>\n",
              "      <td>No Holiday</td>\n",
              "      <td>Yes</td>\n",
              "    </tr>\n",
              "    <tr>\n",
              "      <th>8756</th>\n",
              "      <td>30/11/2018</td>\n",
              "      <td>764</td>\n",
              "      <td>20</td>\n",
              "      <td>3.4</td>\n",
              "      <td>37</td>\n",
              "      <td>2.3</td>\n",
              "      <td>2000</td>\n",
              "      <td>-9.9</td>\n",
              "      <td>0.0</td>\n",
              "      <td>0.0</td>\n",
              "      <td>0.0</td>\n",
              "      <td>Autumn</td>\n",
              "      <td>No Holiday</td>\n",
              "      <td>Yes</td>\n",
              "    </tr>\n",
              "    <tr>\n",
              "      <th>8757</th>\n",
              "      <td>30/11/2018</td>\n",
              "      <td>694</td>\n",
              "      <td>21</td>\n",
              "      <td>2.6</td>\n",
              "      <td>39</td>\n",
              "      <td>0.3</td>\n",
              "      <td>1968</td>\n",
              "      <td>-9.9</td>\n",
              "      <td>0.0</td>\n",
              "      <td>0.0</td>\n",
              "      <td>0.0</td>\n",
              "      <td>Autumn</td>\n",
              "      <td>No Holiday</td>\n",
              "      <td>Yes</td>\n",
              "    </tr>\n",
              "    <tr>\n",
              "      <th>8758</th>\n",
              "      <td>30/11/2018</td>\n",
              "      <td>712</td>\n",
              "      <td>22</td>\n",
              "      <td>2.1</td>\n",
              "      <td>41</td>\n",
              "      <td>1.0</td>\n",
              "      <td>1859</td>\n",
              "      <td>-9.8</td>\n",
              "      <td>0.0</td>\n",
              "      <td>0.0</td>\n",
              "      <td>0.0</td>\n",
              "      <td>Autumn</td>\n",
              "      <td>No Holiday</td>\n",
              "      <td>Yes</td>\n",
              "    </tr>\n",
              "    <tr>\n",
              "      <th>8759</th>\n",
              "      <td>30/11/2018</td>\n",
              "      <td>584</td>\n",
              "      <td>23</td>\n",
              "      <td>1.9</td>\n",
              "      <td>43</td>\n",
              "      <td>1.3</td>\n",
              "      <td>1909</td>\n",
              "      <td>-9.3</td>\n",
              "      <td>0.0</td>\n",
              "      <td>0.0</td>\n",
              "      <td>0.0</td>\n",
              "      <td>Autumn</td>\n",
              "      <td>No Holiday</td>\n",
              "      <td>Yes</td>\n",
              "    </tr>\n",
              "  </tbody>\n",
              "</table>\n",
              "</div>"
            ],
            "text/plain": [
              "            Date  Rented Bike Count  Hour  ...  Seasons     Holiday  Functioning Day\n",
              "8755  30/11/2018               1003    19  ...   Autumn  No Holiday              Yes\n",
              "8756  30/11/2018                764    20  ...   Autumn  No Holiday              Yes\n",
              "8757  30/11/2018                694    21  ...   Autumn  No Holiday              Yes\n",
              "8758  30/11/2018                712    22  ...   Autumn  No Holiday              Yes\n",
              "8759  30/11/2018                584    23  ...   Autumn  No Holiday              Yes\n",
              "\n",
              "[5 rows x 14 columns]"
            ]
          },
          "metadata": {},
          "execution_count": 43
        }
      ]
    },
    {
      "cell_type": "code",
      "metadata": {
        "colab": {
          "base_uri": "https://localhost:8080/"
        },
        "id": "2ruo309Jnoq-",
        "outputId": "57e63114-564f-4baa-d765-18e469c9e025"
      },
      "source": [
        "# Dataset information\n",
        "\n",
        "bike_data_df.info()"
      ],
      "execution_count": 44,
      "outputs": [
        {
          "output_type": "stream",
          "name": "stdout",
          "text": [
            "<class 'pandas.core.frame.DataFrame'>\n",
            "RangeIndex: 8760 entries, 0 to 8759\n",
            "Data columns (total 14 columns):\n",
            " #   Column                     Non-Null Count  Dtype  \n",
            "---  ------                     --------------  -----  \n",
            " 0   Date                       8760 non-null   object \n",
            " 1   Rented Bike Count          8760 non-null   int64  \n",
            " 2   Hour                       8760 non-null   int64  \n",
            " 3   Temperature(°C)            8760 non-null   float64\n",
            " 4   Humidity(%)                8760 non-null   int64  \n",
            " 5   Wind speed (m/s)           8760 non-null   float64\n",
            " 6   Visibility (10m)           8760 non-null   int64  \n",
            " 7   Dew point temperature(°C)  8760 non-null   float64\n",
            " 8   Solar Radiation (MJ/m2)    8760 non-null   float64\n",
            " 9   Rainfall(mm)               8760 non-null   float64\n",
            " 10  Snowfall (cm)              8760 non-null   float64\n",
            " 11  Seasons                    8760 non-null   object \n",
            " 12  Holiday                    8760 non-null   object \n",
            " 13  Functioning Day            8760 non-null   object \n",
            "dtypes: float64(6), int64(4), object(4)\n",
            "memory usage: 958.2+ KB\n"
          ]
        }
      ]
    },
    {
      "cell_type": "code",
      "metadata": {
        "colab": {
          "base_uri": "https://localhost:8080/",
          "height": 314
        },
        "id": "wOzAcitynyb8",
        "outputId": "40754978-70a9-4279-b348-40bb40b35e01"
      },
      "source": [
        "bike_data_df.describe()"
      ],
      "execution_count": 45,
      "outputs": [
        {
          "output_type": "execute_result",
          "data": {
            "text/html": [
              "<div>\n",
              "<style scoped>\n",
              "    .dataframe tbody tr th:only-of-type {\n",
              "        vertical-align: middle;\n",
              "    }\n",
              "\n",
              "    .dataframe tbody tr th {\n",
              "        vertical-align: top;\n",
              "    }\n",
              "\n",
              "    .dataframe thead th {\n",
              "        text-align: right;\n",
              "    }\n",
              "</style>\n",
              "<table border=\"1\" class=\"dataframe\">\n",
              "  <thead>\n",
              "    <tr style=\"text-align: right;\">\n",
              "      <th></th>\n",
              "      <th>Rented Bike Count</th>\n",
              "      <th>Hour</th>\n",
              "      <th>Temperature(°C)</th>\n",
              "      <th>Humidity(%)</th>\n",
              "      <th>Wind speed (m/s)</th>\n",
              "      <th>Visibility (10m)</th>\n",
              "      <th>Dew point temperature(°C)</th>\n",
              "      <th>Solar Radiation (MJ/m2)</th>\n",
              "      <th>Rainfall(mm)</th>\n",
              "      <th>Snowfall (cm)</th>\n",
              "    </tr>\n",
              "  </thead>\n",
              "  <tbody>\n",
              "    <tr>\n",
              "      <th>count</th>\n",
              "      <td>8760.000000</td>\n",
              "      <td>8760.000000</td>\n",
              "      <td>8760.000000</td>\n",
              "      <td>8760.000000</td>\n",
              "      <td>8760.000000</td>\n",
              "      <td>8760.000000</td>\n",
              "      <td>8760.000000</td>\n",
              "      <td>8760.000000</td>\n",
              "      <td>8760.000000</td>\n",
              "      <td>8760.000000</td>\n",
              "    </tr>\n",
              "    <tr>\n",
              "      <th>mean</th>\n",
              "      <td>704.602055</td>\n",
              "      <td>11.500000</td>\n",
              "      <td>12.882922</td>\n",
              "      <td>58.226256</td>\n",
              "      <td>1.724909</td>\n",
              "      <td>1436.825799</td>\n",
              "      <td>4.073813</td>\n",
              "      <td>0.569111</td>\n",
              "      <td>0.148687</td>\n",
              "      <td>0.075068</td>\n",
              "    </tr>\n",
              "    <tr>\n",
              "      <th>std</th>\n",
              "      <td>644.997468</td>\n",
              "      <td>6.922582</td>\n",
              "      <td>11.944825</td>\n",
              "      <td>20.362413</td>\n",
              "      <td>1.036300</td>\n",
              "      <td>608.298712</td>\n",
              "      <td>13.060369</td>\n",
              "      <td>0.868746</td>\n",
              "      <td>1.128193</td>\n",
              "      <td>0.436746</td>\n",
              "    </tr>\n",
              "    <tr>\n",
              "      <th>min</th>\n",
              "      <td>0.000000</td>\n",
              "      <td>0.000000</td>\n",
              "      <td>-17.800000</td>\n",
              "      <td>0.000000</td>\n",
              "      <td>0.000000</td>\n",
              "      <td>27.000000</td>\n",
              "      <td>-30.600000</td>\n",
              "      <td>0.000000</td>\n",
              "      <td>0.000000</td>\n",
              "      <td>0.000000</td>\n",
              "    </tr>\n",
              "    <tr>\n",
              "      <th>25%</th>\n",
              "      <td>191.000000</td>\n",
              "      <td>5.750000</td>\n",
              "      <td>3.500000</td>\n",
              "      <td>42.000000</td>\n",
              "      <td>0.900000</td>\n",
              "      <td>940.000000</td>\n",
              "      <td>-4.700000</td>\n",
              "      <td>0.000000</td>\n",
              "      <td>0.000000</td>\n",
              "      <td>0.000000</td>\n",
              "    </tr>\n",
              "    <tr>\n",
              "      <th>50%</th>\n",
              "      <td>504.500000</td>\n",
              "      <td>11.500000</td>\n",
              "      <td>13.700000</td>\n",
              "      <td>57.000000</td>\n",
              "      <td>1.500000</td>\n",
              "      <td>1698.000000</td>\n",
              "      <td>5.100000</td>\n",
              "      <td>0.010000</td>\n",
              "      <td>0.000000</td>\n",
              "      <td>0.000000</td>\n",
              "    </tr>\n",
              "    <tr>\n",
              "      <th>75%</th>\n",
              "      <td>1065.250000</td>\n",
              "      <td>17.250000</td>\n",
              "      <td>22.500000</td>\n",
              "      <td>74.000000</td>\n",
              "      <td>2.300000</td>\n",
              "      <td>2000.000000</td>\n",
              "      <td>14.800000</td>\n",
              "      <td>0.930000</td>\n",
              "      <td>0.000000</td>\n",
              "      <td>0.000000</td>\n",
              "    </tr>\n",
              "    <tr>\n",
              "      <th>max</th>\n",
              "      <td>3556.000000</td>\n",
              "      <td>23.000000</td>\n",
              "      <td>39.400000</td>\n",
              "      <td>98.000000</td>\n",
              "      <td>7.400000</td>\n",
              "      <td>2000.000000</td>\n",
              "      <td>27.200000</td>\n",
              "      <td>3.520000</td>\n",
              "      <td>35.000000</td>\n",
              "      <td>8.800000</td>\n",
              "    </tr>\n",
              "  </tbody>\n",
              "</table>\n",
              "</div>"
            ],
            "text/plain": [
              "       Rented Bike Count         Hour  ...  Rainfall(mm)  Snowfall (cm)\n",
              "count        8760.000000  8760.000000  ...   8760.000000    8760.000000\n",
              "mean          704.602055    11.500000  ...      0.148687       0.075068\n",
              "std           644.997468     6.922582  ...      1.128193       0.436746\n",
              "min             0.000000     0.000000  ...      0.000000       0.000000\n",
              "25%           191.000000     5.750000  ...      0.000000       0.000000\n",
              "50%           504.500000    11.500000  ...      0.000000       0.000000\n",
              "75%          1065.250000    17.250000  ...      0.000000       0.000000\n",
              "max          3556.000000    23.000000  ...     35.000000       8.800000\n",
              "\n",
              "[8 rows x 10 columns]"
            ]
          },
          "metadata": {},
          "execution_count": 45
        }
      ]
    },
    {
      "cell_type": "code",
      "metadata": {
        "colab": {
          "base_uri": "https://localhost:8080/"
        },
        "id": "P9OHBZvOoKxF",
        "outputId": "baebb156-6b0e-467a-dffe-70f593a3f426"
      },
      "source": [
        "bike_data_df.isnull().sum()"
      ],
      "execution_count": 46,
      "outputs": [
        {
          "output_type": "execute_result",
          "data": {
            "text/plain": [
              "Date                         0\n",
              "Rented Bike Count            0\n",
              "Hour                         0\n",
              "Temperature(°C)              0\n",
              "Humidity(%)                  0\n",
              "Wind speed (m/s)             0\n",
              "Visibility (10m)             0\n",
              "Dew point temperature(°C)    0\n",
              "Solar Radiation (MJ/m2)      0\n",
              "Rainfall(mm)                 0\n",
              "Snowfall (cm)                0\n",
              "Seasons                      0\n",
              "Holiday                      0\n",
              "Functioning Day              0\n",
              "dtype: int64"
            ]
          },
          "metadata": {},
          "execution_count": 46
        }
      ]
    },
    {
      "cell_type": "code",
      "metadata": {
        "colab": {
          "base_uri": "https://localhost:8080/"
        },
        "id": "Qx0GBzWBogyf",
        "outputId": "d22bb57a-5590-4e17-db90-e28161fe9094"
      },
      "source": [
        "bike_data_df.Seasons.value_counts()"
      ],
      "execution_count": 47,
      "outputs": [
        {
          "output_type": "execute_result",
          "data": {
            "text/plain": [
              "Spring    2208\n",
              "Summer    2208\n",
              "Autumn    2184\n",
              "Winter    2160\n",
              "Name: Seasons, dtype: int64"
            ]
          },
          "metadata": {},
          "execution_count": 47
        }
      ]
    },
    {
      "cell_type": "code",
      "metadata": {
        "colab": {
          "base_uri": "https://localhost:8080/"
        },
        "id": "-kOEiyqwySkC",
        "outputId": "4ee0d104-7805-4fce-fbf4-01d62b9a8470"
      },
      "source": [
        "bike_data_df.Holiday.value_counts()"
      ],
      "execution_count": 48,
      "outputs": [
        {
          "output_type": "execute_result",
          "data": {
            "text/plain": [
              "No Holiday    8328\n",
              "Holiday        432\n",
              "Name: Holiday, dtype: int64"
            ]
          },
          "metadata": {},
          "execution_count": 48
        }
      ]
    },
    {
      "cell_type": "code",
      "metadata": {
        "id": "FwvGFqzyyo-T"
      },
      "source": [
        ""
      ],
      "execution_count": null,
      "outputs": []
    }
  ]
}